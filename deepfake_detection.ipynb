{
  "cells": [
    {
      "cell_type": "code",
      "execution_count": null,
      "metadata": {
        "id": "qXBNsxIzY16E"
      },
      "outputs": [],
      "source": [
        " !pip install -q kagglehub\n",
        " import kagglehub\n",
        " import os\n"
      ]
    },
    {
      "cell_type": "code",
      "execution_count": null,
      "metadata": {
        "colab": {
          "base_uri": "https://localhost:8080/"
        },
        "id": "GydWF3hcgZ3a",
        "outputId": "384acf1f-799f-42d5-d554-5bd5e85207b4"
      },
      "outputs": [
        {
          "name": "stdout",
          "output_type": "stream",
          "text": [
            "Dataset downloaded to: /kaggle/input/140k-real-and-fake-faces\n"
          ]
        }
      ],
      "source": [
        "\n",
        " full_path = kagglehub.dataset_download(\"xhlulu/140k-real-and-fake-faces\")\n",
        " print(\"Dataset downloaded to:\", full_path)\n"
      ]
    },
    {
      "cell_type": "code",
      "execution_count": null,
      "metadata": {
        "colab": {
          "base_uri": "https://localhost:8080/"
        },
        "id": "vWLzCKf6jiZX",
        "outputId": "1d18b9db-8858-4de9-e5f2-85c7a32b0c59"
      },
      "outputs": [
        {
          "name": "stdout",
          "output_type": "stream",
          "text": [
            "📄 Found CSV: /kaggle/input/140k-real-and-fake-faces/valid.csv\n",
            "📄 Found CSV: /kaggle/input/140k-real-and-fake-faces/train.csv\n",
            "📄 Found CSV: /kaggle/input/140k-real-and-fake-faces/test.csv\n"
          ]
        }
      ],
      "source": [
        " import os\n",
        "\n",
        " # List files in the dataset directory\n",
        " for root, dirs, files in os.walk(full_path):\n",
        "     for file in files:\n",
        "         if file.endswith(\".csv\"):\n",
        "             print(\"📄 Found CSV:\", os.path.join(root, file))\n"
      ]
    },
    {
      "cell_type": "code",
      "execution_count": null,
      "metadata": {
        "colab": {
          "base_uri": "https://localhost:8080/"
        },
        "id": "v1UMk0rWlCbS",
        "outputId": "ee9af220-6444-4b39-a17f-7e241385b36c"
      },
      "outputs": [
        {
          "name": "stdout",
          "output_type": "stream",
          "text": [
            "Train: 100000 | Val: 20000 | Test: 20000\n",
            "                                           full_path label_str\n",
            "0  /kaggle/input/140k-real-and-fake-faces/real_vs...      real\n",
            "1  /kaggle/input/140k-real-and-fake-faces/real_vs...      real\n",
            "2  /kaggle/input/140k-real-and-fake-faces/real_vs...      real\n",
            "3  /kaggle/input/140k-real-and-fake-faces/real_vs...      real\n",
            "4  /kaggle/input/140k-real-and-fake-faces/real_vs...      real\n"
          ]
        }
      ],
      "source": [
        "\n",
        "\n",
        " import pandas as pd\n",
        " import os\n",
        "\n",
        " # Dataset base path\n",
        " base_path = \"/kaggle/input/140k-real-and-fake-faces\"\n",
        " image_root = os.path.join(base_path, \"real_vs_fake\", \"real-vs-fake\")  # 👈 Corrected image base folder\n",
        "\n",
        " # Load CSVs\n",
        " train_df = pd.read_csv(os.path.join(base_path, \"train.csv\"))\n",
        " val_df = pd.read_csv(os.path.join(base_path, \"valid.csv\"))\n",
        " test_df = pd.read_csv(os.path.join(base_path, \"test.csv\"))\n",
        "\n",
        " # ✅ Fix: Add correct full image path\n",
        " train_df['full_path'] = train_df['path'].apply(lambda x: os.path.join(image_root, x))\n",
        "\n",
        " val_df['full_path'] = val_df['path'].apply(lambda x: os.path.join(image_root, x))\n",
        " test_df['full_path'] = test_df['path'].apply(lambda x: os.path.join(image_root, x))\n",
        "\n",
        " # Confirm it worked\n",
        " print(\"Train:\", len(train_df), \"| Val:\", len(val_df), \"| Test:\", len(test_df))\n",
        " print(train_df[['full_path', 'label_str']].head())\n",
        "\n"
      ]
    },
    {
      "cell_type": "code",
      "execution_count": null,
      "metadata": {
        "colab": {
          "base_uri": "https://localhost:8080/"
        },
        "id": "zLC3nKWRkrnz",
        "outputId": "5da69009-2bf1-4151-f933-ffe9b811e371"
      },
      "outputs": [
        {
          "name": "stdout",
          "output_type": "stream",
          "text": [
            "Train CSV columns: Index(['Unnamed: 0', 'original_path', 'id', 'label', 'label_str', 'path',\n",
            "       'full_path'],\n",
            "      dtype='object')\n",
            "Validation CSV columns: Index(['Unnamed: 0', 'original_path', 'id', 'label', 'label_str', 'path',\n",
            "       'full_path'],\n",
            "      dtype='object')\n",
            "Test CSV columns: Index(['Unnamed: 0', 'original_path', 'id', 'label', 'label_str', 'path',\n",
            "       'full_path'],\n",
            "      dtype='object')\n"
          ]
        }
      ],
      "source": [
        " print(\"Train CSV columns:\", train_df.columns)\n",
        " print(\"Validation CSV columns:\", val_df.columns)\n",
        " print(\"Test CSV columns:\", test_df.columns)\n"
      ]
    },
    {
      "cell_type": "code",
      "execution_count": null,
      "metadata": {
        "id": "yuMI2ExslIPU"
      },
      "outputs": [],
      "source": [
        " from torch.utils.data import Dataset\n",
        " from PIL import Image\n",
        "\n",
        " class DeepFakeDataset(Dataset):\n",
        "     def __init__(self, dataframe, transform=None):\n",
        "         self.df = dataframe.reset_index(drop=True)\n",
        "         self.transform = transform\n",
        "\n",
        "     def __getitem__(self, idx):\n",
        "         img_path = self.df.loc[idx, 'full_path']  # ✅ Not 'path'\n",
        "         label = 0 if self.df.loc[idx, 'label_str'].lower() == 'real' else 1\n",
        "         image = Image.open(img_path).convert(\"RGB\")\n",
        "         if self.transform:\n",
        "             image = self.transform(image)\n",
        "         return image, label\n",
        "\n"
      ]
    },
    {
      "cell_type": "code",
      "execution_count": null,
      "metadata": {
        "colab": {
          "base_uri": "https://localhost:8080/"
        },
        "id": "IOcBjCF0l5hG",
        "outputId": "7cd54ac4-296e-4c9f-d516-f3b86c1b45fe"
      },
      "outputs": [
        {
          "name": "stdout",
          "output_type": "stream",
          "text": [
            "Using device: cuda\n"
          ]
        },
        {
          "name": "stderr",
          "output_type": "stream",
          "text": [
            "/usr/local/lib/python3.11/dist-packages/torchvision/models/_utils.py:208: UserWarning: The parameter 'pretrained' is deprecated since 0.13 and may be removed in the future, please use 'weights' instead.\n",
            "  warnings.warn(\n",
            "/usr/local/lib/python3.11/dist-packages/torchvision/models/_utils.py:223: UserWarning: Arguments other than a weight enum or `None` for 'weights' are deprecated since 0.13 and may be removed in the future. The current behavior is equivalent to passing `weights=ResNet18_Weights.IMAGENET1K_V1`. You can also use `weights=ResNet18_Weights.DEFAULT` to get the most up-to-date weights.\n",
            "  warnings.warn(msg)\n",
            "Downloading: \"https://download.pytorch.org/models/resnet18-f37072fd.pth\" to /root/.cache/torch/hub/checkpoints/resnet18-f37072fd.pth\n",
            "100%|██████████| 44.7M/44.7M [00:00<00:00, 203MB/s]\n"
          ]
        }
      ],
      "source": [
        " import torch\n",
        " import torch.nn as nn\n",
        " import torchvision.models as models\n",
        "\n",
        " # Use GPU if available\n",
        " device = torch.device(\"cuda\" if torch.cuda.is_available() else \"cpu\")\n",
        " print(\"Using device:\", device)\n",
        "\n",
        " # Load pretrained ResNet18\n",
        " model = models.resnet18(pretrained=True)\n",
        "\n",
        " # Modify last layer for binary classification (real vs fake)\n",
        " model.fc = nn.Linear(model.fc.in_features, 2)\n",
        " model = model.to(device)\n"
      ]
    },
    {
      "cell_type": "code",
      "execution_count": null,
      "metadata": {
        "id": "O2n1gqbglWJs"
      },
      "outputs": [],
      "source": [
        " from torch.utils.data import Dataset\n",
        " from PIL import Image\n",
        "\n",
        " class DeepFakeDataset(Dataset):\n",
        "     def __init__(self, dataframe, transform=None):\n",
        "         self.df = dataframe.reset_index(drop=True)\n",
        "         self.transform = transform\n",
        "\n",
        "     def __len__(self): #  ✅ Required by DataLoader\n",
        "         return len(self.df)\n",
        "\n",
        "     def __getitem__(self, idx):\n",
        "         img_path = self.df.loc[idx, 'full_path']\n",
        "         label = 0 if self.df.loc[idx, 'label_str'].lower() == 'real' else 1\n",
        "         image = Image.open(img_path).convert(\"RGB\")\n",
        "         if self.transform:\n",
        "             image = self.transform(image)\n",
        "         return image, label\n"
      ]
    },
    {
      "cell_type": "code",
      "execution_count": null,
      "metadata": {
        "colab": {
          "base_uri": "https://localhost:8080/",
          "height": 211
        },
        "id": "_Ms0F94bsit-",
        "outputId": "a36ba67b-4b70-4a01-cae7-1a07dd962d68"
      },
      "outputs": [
        {
          "ename": "NameError",
          "evalue": "name 'transform' is not defined",
          "output_type": "error",
          "traceback": [
            "\u001b[0;31m---------------------------------------------------------------------------\u001b[0m",
            "\u001b[0;31mNameError\u001b[0m                                 Traceback (most recent call last)",
            "\u001b[0;32m/tmp/ipython-input-22-2195512975.py\u001b[0m in \u001b[0;36m<cell line: 0>\u001b[0;34m()\u001b[0m\n\u001b[1;32m      1\u001b[0m \u001b[0;31m#  Create datasets\u001b[0m\u001b[0;34m\u001b[0m\u001b[0;34m\u001b[0m\u001b[0m\n\u001b[0;32m----> 2\u001b[0;31m \u001b[0mtrain_data\u001b[0m \u001b[0;34m=\u001b[0m \u001b[0mDeepFakeDataset\u001b[0m\u001b[0;34m(\u001b[0m\u001b[0mtrain_df\u001b[0m\u001b[0;34m,\u001b[0m \u001b[0mtransform\u001b[0m\u001b[0;34m=\u001b[0m\u001b[0mtransform\u001b[0m\u001b[0;34m)\u001b[0m\u001b[0;34m\u001b[0m\u001b[0;34m\u001b[0m\u001b[0m\n\u001b[0m\u001b[1;32m      3\u001b[0m \u001b[0mval_data\u001b[0m \u001b[0;34m=\u001b[0m \u001b[0mDeepFakeDataset\u001b[0m\u001b[0;34m(\u001b[0m\u001b[0mval_df\u001b[0m\u001b[0;34m,\u001b[0m \u001b[0mtransform\u001b[0m\u001b[0;34m=\u001b[0m\u001b[0mtransform\u001b[0m\u001b[0;34m)\u001b[0m\u001b[0;34m\u001b[0m\u001b[0;34m\u001b[0m\u001b[0m\n\u001b[1;32m      4\u001b[0m \u001b[0mtest_data\u001b[0m \u001b[0;34m=\u001b[0m \u001b[0mDeepFakeDataset\u001b[0m\u001b[0;34m(\u001b[0m\u001b[0mtest_df\u001b[0m\u001b[0;34m,\u001b[0m \u001b[0mtransform\u001b[0m\u001b[0;34m=\u001b[0m\u001b[0mtransform\u001b[0m\u001b[0;34m)\u001b[0m\u001b[0;34m\u001b[0m\u001b[0;34m\u001b[0m\u001b[0m\n\u001b[1;32m      5\u001b[0m \u001b[0;34m\u001b[0m\u001b[0m\n",
            "\u001b[0;31mNameError\u001b[0m: name 'transform' is not defined"
          ]
        }
      ],
      "source": [
        "#  Create datasets\n",
        "train_data = DeepFakeDataset(train_df, transform=transform)\n",
        "val_data = DeepFakeDataset(val_df, transform=transform)\n",
        "test_data = DeepFakeDataset(test_df, transform=transform)\n",
        "\n",
        " # Create dataloaders\n",
        "train_loader = DataLoader(train_data, batch_size=32, shuffle=True)\n",
        "val_loader = DataLoader(val_data, batch_size=32)\n",
        "test_loader = DataLoader(test_data, batch_size=32)\n",
        "train_loader = DataLoader(train_data, batch_size=32, shuffle=True, num_workers=2, pin_memory=True)\n",
        "val_loader = DataLoader(val_data, batch_size=32, num_workers=2, pin_memory=True)\n",
        "test_loader = DataLoader(test_data, batch_size=32, num_workers=2, pin_memory=True)\n",
        "\n",
        "\n",
        "print(\"✅ Data is now ready for model training.\")\n"
      ]
    },
    {
      "cell_type": "code",
      "execution_count": null,
      "metadata": {
        "id": "vKsQlDGLmXtU"
      },
      "outputs": [],
      "source": [
        " import torch.optim as optim\n",
        " import torch.nn as nn\n",
        "\n",
        " criterion = nn.CrossEntropyLoss()\n",
        " optimizer = optim.Adam(model.parameters(), lr=0.0001)\n"
      ]
    },
    {
      "cell_type": "code",
      "execution_count": null,
      "metadata": {
        "id": "HRFUhx43mjqn"
      },
      "outputs": [],
      "source": [
        " def train_model(model, train_loader, val_loader, criterion, optimizer, num_epochs=5):\n",
        "     train_acc, val_acc = [], []\n",
        "     train_loss, val_loss = [], []\n",
        "\n",
        "     for epoch in range(num_epochs):\n",
        "         model.train()\n",
        "         running_loss, correct, total = 0, 0, 0\n",
        "\n",
        "         for images, labels in train_loader:\n",
        "             images, labels = images.to(device), labels.to(device)\n",
        "\n",
        "             optimizer.zero_grad()\n",
        "             outputs = model(images)\n",
        "             loss = criterion(outputs, labels)\n",
        "             loss.backward()\n",
        "             optimizer.step()\n",
        "\n",
        "             running_loss += loss.item()\n",
        "             _, predicted = torch.max(outputs.data, 1)\n",
        "             total += labels.size(0)\n",
        "             correct += (predicted == labels).sum().item()\n",
        "\n",
        "         train_accuracy = 100 * correct / total\n",
        "         train_acc.append(train_accuracy)\n",
        "         train_loss.append(running_loss / len(train_loader))\n",
        "\n",
        "          #Validation phase\n",
        "         model.eval()\n",
        "         val_running_loss, val_correct, val_total = 0, 0, 0\n",
        "\n",
        "         with torch.no_grad():\n",
        "             for images, labels in val_loader:\n",
        "                 images, labels = images.to(device), labels.to(device)\n",
        "                 outputs = model(images)\n",
        "                 loss = criterion(outputs, labels)\n",
        "                 val_running_loss += loss.item()\n",
        "                 _, predicted = torch.max(outputs.data, 1)\n",
        "                 val_total += labels.size(0)\n",
        "                 val_correct += (predicted == labels).sum().item()\n",
        "\n",
        "         val_accuracy = 100 * val_correct / val_total\n",
        "         val_acc.append(val_accuracy)\n",
        "         val_loss.append(val_running_loss / len(val_loader))\n",
        "\n",
        "         print(f\"Epoch {epoch+1}/{num_epochs} | \"\n",
        "               f\"Train Acc: {train_accuracy:.2f}% | Val Acc: {val_accuracy:.2f}%\")\n",
        "\n",
        "     return train_acc, val_acc, train_loss, val_loss\n"
      ]
    },
    {
      "cell_type": "code",
      "execution_count": null,
      "metadata": {
        "colab": {
          "base_uri": "https://localhost:8080/",
          "height": 176
        },
        "id": "cmNIisrXmsQ6",
        "outputId": "72794fae-85ac-4674-9533-02151d70a0b0"
      },
      "outputs": [
        {
          "ename": "NameError",
          "evalue": "name 'train_loader' is not defined",
          "output_type": "error",
          "traceback": [
            "\u001b[0;31m---------------------------------------------------------------------------\u001b[0m",
            "\u001b[0;31mNameError\u001b[0m                                 Traceback (most recent call last)",
            "\u001b[0;32m/tmp/ipython-input-21-3578240322.py\u001b[0m in \u001b[0;36m<cell line: 0>\u001b[0;34m()\u001b[0m\n\u001b[1;32m      1\u001b[0m train_acc, val_acc, train_loss, val_loss = train_model(\n\u001b[0;32m----> 2\u001b[0;31m     \u001b[0mmodel\u001b[0m\u001b[0;34m,\u001b[0m \u001b[0mtrain_loader\u001b[0m\u001b[0;34m,\u001b[0m \u001b[0mval_loader\u001b[0m\u001b[0;34m,\u001b[0m \u001b[0mcriterion\u001b[0m\u001b[0;34m,\u001b[0m \u001b[0moptimizer\u001b[0m\u001b[0;34m,\u001b[0m \u001b[0mnum_epochs\u001b[0m\u001b[0;34m=\u001b[0m\u001b[0;36m5\u001b[0m\u001b[0;34m\u001b[0m\u001b[0;34m\u001b[0m\u001b[0m\n\u001b[0m\u001b[1;32m      3\u001b[0m )\n",
            "\u001b[0;31mNameError\u001b[0m: name 'train_loader' is not defined"
          ]
        }
      ],
      "source": [
        " train_acc, val_acc, train_loss, val_loss = train_model(\n",
        "     model, train_loader, val_loader, criterion, optimizer, num_epochs=5\n",
        " )\n"
      ]
    },
    {
      "cell_type": "code",
      "execution_count": null,
      "metadata": {
        "colab": {
          "base_uri": "https://localhost:8080/"
        },
        "id": "OQXyCF-W7JB8",
        "outputId": "3da58e45-d575-434a-b497-f5d1d5bc0bca"
      },
      "outputs": [
        {
          "name": "stdout",
          "output_type": "stream",
          "text": [
            "✅ Dataset downloaded to: /kaggle/input/140k-real-and-fake-faces\n",
            "✅ CSVs loaded | Train: 100000 | Val: 20000 | Test: 20000\n",
            "🚀 Using device: cuda\n"
          ]
        },
        {
          "name": "stderr",
          "output_type": "stream",
          "text": [
            "/usr/local/lib/python3.11/dist-packages/torchvision/models/_utils.py:208: UserWarning: The parameter 'pretrained' is deprecated since 0.13 and may be removed in the future, please use 'weights' instead.\n",
            "  warnings.warn(\n",
            "/usr/local/lib/python3.11/dist-packages/torchvision/models/_utils.py:223: UserWarning: Arguments other than a weight enum or `None` for 'weights' are deprecated since 0.13 and may be removed in the future. The current behavior is equivalent to passing `weights=ResNet18_Weights.IMAGENET1K_V1`. You can also use `weights=ResNet18_Weights.DEFAULT` to get the most up-to-date weights.\n",
            "  warnings.warn(msg)\n",
            "Epoch 1/2 - Training: 100%|██████████| 32/32 [00:05<00:00,  5.66it/s]\n",
            "Epoch 1/2 - Validation: 100%|██████████| 7/7 [00:00<00:00,  7.52it/s]\n"
          ]
        },
        {
          "name": "stdout",
          "output_type": "stream",
          "text": [
            "✅ Epoch 1: Train Acc = 69.90%, Val Acc = 66.00%\n"
          ]
        },
        {
          "name": "stderr",
          "output_type": "stream",
          "text": [
            "Epoch 2/2 - Training: 100%|██████████| 32/32 [00:02<00:00, 13.56it/s]\n",
            "Epoch 2/2 - Validation: 100%|██████████| 7/7 [00:00<00:00,  8.52it/s]"
          ]
        },
        {
          "name": "stdout",
          "output_type": "stream",
          "text": [
            "✅ Epoch 2: Train Acc = 97.30%, Val Acc = 71.00%\n"
          ]
        },
        {
          "name": "stderr",
          "output_type": "stream",
          "text": [
            "\n"
          ]
        }
      ],
      "source": [
        "\n",
        "\n",
        " import kagglehub\n",
        " import os\n",
        " import pandas as pd\n",
        " from PIL import Image\n",
        " from tqdm import tqdm\n",
        "\n",
        " import torch\n",
        " import torch.nn as nn\n",
        " import torch.optim as optim\n",
        " from torchvision import transforms, models\n",
        " from torch.utils.data import Dataset, DataLoader\n",
        "\n",
        "\n",
        " full_path = kagglehub.dataset_download(\"xhlulu/140k-real-and-fake-faces\")\n",
        " print(\"✅ Dataset downloaded to:\", full_path)\n",
        "\n",
        "\n",
        " base_path = full_path  # Already downloaded\n",
        " image_root = os.path.join(base_path, \"real_vs_fake\", \"real-vs-fake\")\n",
        "\n",
        " train_df = pd.read_csv(os.path.join(base_path, \"train.csv\"))\n",
        " val_df = pd.read_csv(os.path.join(base_path, \"valid.csv\"))\n",
        " test_df = pd.read_csv(os.path.join(base_path, \"test.csv\"))\n",
        "\n",
        " # Add full image paths\n",
        " for df in [train_df, val_df, test_df]:\n",
        "     df['full_path'] = df['path'].apply(lambda x: os.path.join(image_root, x))\n",
        "\n",
        " print(\"✅ CSVs loaded | Train:\", len(train_df), \"| Val:\", len(val_df), \"| Test:\", len(test_df))\n",
        "\n",
        " class DeepFakeDataset(Dataset):\n",
        "     def __init__(self, dataframe, transform=None):\n",
        "         self.df = dataframe.reset_index(drop=True)\n",
        "         self.transform = transform\n",
        "\n",
        "     def __len__(self):\n",
        "         return len(self.df)\n",
        "\n",
        "     def __getitem__(self, idx):\n",
        "         img_path = self.df.loc[idx, 'full_path']\n",
        "         label = 0 if self.df.loc[idx, 'label_str'].lower() == 'real' else 1\n",
        "         image = Image.open(img_path).convert(\"RGB\")\n",
        "         if self.transform:\n",
        "             image = self.transform(image)\n",
        "         return image, label\n",
        "\n",
        " transform = transforms.Compose([\n",
        "     transforms.Resize((128, 128)),\n",
        "     transforms.ToTensor()\n",
        " ])\n",
        "\n",
        " # 🧪 Use small subset first (for speed testing)\n",
        " train_df_small = train_df.sample(n=1000, random_state=42)\n",
        " val_df_small = val_df.sample(n=200, random_state=42)\n",
        "\n",
        " train_data = DeepFakeDataset(train_df_small, transform=transform)\n",
        " val_data = DeepFakeDataset(val_df_small, transform=transform)\n",
        "\n",
        " train_loader = DataLoader(train_data, batch_size=32, shuffle=True, num_workers=2, pin_memory=True)\n",
        " val_loader = DataLoader(val_data, batch_size=32, num_workers=2, pin_memory=True)\n",
        "\n",
        " device = torch.device(\"cuda\" if torch.cuda.is_available() else \"cpu\")\n",
        " print(\"🚀 Using device:\", device)\n",
        "\n",
        " model = models.resnet18(pretrained=True)\n",
        " model.fc = nn.Linear(model.fc.in_features, 2)\n",
        " model = model.to(device)\n",
        "\n",
        " criterion = nn.CrossEntropyLoss()\n",
        " optimizer = optim.Adam(model.parameters(), lr=0.0001)\n",
        "\n",
        " def train_model(model, train_loader, val_loader, criterion, optimizer, num_epochs=2):\n",
        "     train_acc, val_acc = [], []\n",
        "     train_loss, val_loss = [], []\n",
        "\n",
        "     for epoch in range(num_epochs):\n",
        "         model.train()\n",
        "         running_loss, correct, total = 0, 0, 0\n",
        "\n",
        "         for images, labels in tqdm(train_loader, desc=f\"Epoch {epoch+1}/{num_epochs} - Training\"):\n",
        "             images, labels = images.to(device), labels.to(device)\n",
        "             optimizer.zero_grad()\n",
        "             outputs = model(images)\n",
        "             loss = criterion(outputs, labels)\n",
        "             loss.backward()\n",
        "             optimizer.step()\n",
        "\n",
        "             running_loss += loss.item()\n",
        "             _, predicted = torch.max(outputs.data, 1)\n",
        "             total += labels.size(0)\n",
        "             correct += (predicted == labels).sum().item()\n",
        "\n",
        "         train_accuracy = 100 * correct / total\n",
        "         train_acc.append(train_accuracy)\n",
        "         train_loss.append(running_loss / len(train_loader))\n",
        "\n",
        "         model.eval()\n",
        "         val_running_loss, val_correct, val_total = 0, 0, 0\n",
        "         for images, labels in tqdm(val_loader, desc=f\"Epoch {epoch+1}/{num_epochs} - Validation\"):\n",
        "             images, labels = images.to(device), labels.to(device)\n",
        "             with torch.no_grad():\n",
        "                 outputs = model(images)\n",
        "                 loss = criterion(outputs, labels)\n",
        "                 val_running_loss += loss.item()\n",
        "                 _, predicted = torch.max(outputs.data, 1)\n",
        "                 val_total += labels.size(0)\n",
        "                 val_correct += (predicted == labels).sum().item()\n",
        "\n",
        "         val_accuracy = 100 * val_correct / val_total\n",
        "         val_acc.append(val_accuracy)\n",
        "         val_loss.append(val_running_loss / len(val_loader))\n",
        "\n",
        "         print(f\"✅ Epoch {epoch+1}: Train Acc = {train_accuracy:.2f}%, Val Acc = {val_accuracy:.2f}%\")\n",
        "\n",
        "     return train_acc, val_acc, train_loss, val_loss\n",
        "\n",
        "\n",
        " train_acc, val_acc, train_loss, val_loss = train_model(\n",
        "     model, train_loader, val_loader, criterion, optimizer, num_epochs=2\n",
        " )\n"
      ]
    },
    {
      "cell_type": "code",
      "execution_count": null,
      "metadata": {
        "colab": {
          "background_save": true,
          "base_uri": "https://localhost:8080/"
        },
        "id": "zoFI6-ta8Un8",
        "outputId": "28848f04-272f-4f98-885a-7131c80a2394"
      },
      "outputs": [
        {
          "name": "stdout",
          "output_type": "stream",
          "text": [
            "Downloading from https://www.kaggle.com/api/v1/datasets/download/xhlulu/140k-real-and-fake-faces?dataset_version_number=2...\n"
          ]
        },
        {
          "name": "stderr",
          "output_type": "stream",
          "text": [
            "100%|██████████| 3.75G/3.75G [00:43<00:00, 92.5MB/s]"
          ]
        },
        {
          "name": "stdout",
          "output_type": "stream",
          "text": [
            "Extracting files...\n"
          ]
        },
        {
          "name": "stderr",
          "output_type": "stream",
          "text": [
            "\n"
          ]
        },
        {
          "name": "stdout",
          "output_type": "stream",
          "text": [
            "✅ Dataset downloaded to: /root/.cache/kagglehub/datasets/xhlulu/140k-real-and-fake-faces/versions/2\n",
            "✅ CSVs loaded | Train: 100000 | Val: 20000 | Test: 20000\n",
            "🚀 Using device: cpu\n"
          ]
        },
        {
          "name": "stderr",
          "output_type": "stream",
          "text": [
            "Epoch 1/5 - Training: 100%|██████████| 313/313 [17:30<00:00,  3.36s/it]\n",
            "Epoch 1/5 - Validation: 100%|██████████| 63/63 [01:13<00:00,  1.17s/it]\n"
          ]
        },
        {
          "name": "stdout",
          "output_type": "stream",
          "text": [
            "✅ Epoch 1: Train Acc = 77.72%, Val Acc = 85.10%\n"
          ]
        },
        {
          "name": "stderr",
          "output_type": "stream",
          "text": [
            "Epoch 2/5 - Training: 100%|██████████| 313/313 [17:36<00:00,  3.37s/it]\n",
            "Epoch 2/5 - Validation: 100%|██████████| 63/63 [01:12<00:00,  1.15s/it]\n"
          ]
        },
        {
          "name": "stdout",
          "output_type": "stream",
          "text": [
            "✅ Epoch 2: Train Acc = 87.84%, Val Acc = 86.90%\n"
          ]
        },
        {
          "name": "stderr",
          "output_type": "stream",
          "text": [
            "Epoch 3/5 - Training: 100%|██████████| 313/313 [17:28<00:00,  3.35s/it]\n",
            "Epoch 3/5 - Validation: 100%|██████████| 63/63 [01:20<00:00,  1.27s/it]\n"
          ]
        },
        {
          "name": "stdout",
          "output_type": "stream",
          "text": [
            "✅ Epoch 3: Train Acc = 91.76%, Val Acc = 88.85%\n"
          ]
        },
        {
          "name": "stderr",
          "output_type": "stream",
          "text": [
            "Epoch 4/5 - Training: 100%|██████████| 313/313 [17:26<00:00,  3.34s/it]\n",
            "Epoch 4/5 - Validation: 100%|██████████| 63/63 [01:13<00:00,  1.17s/it]\n"
          ]
        },
        {
          "name": "stdout",
          "output_type": "stream",
          "text": [
            "✅ Epoch 4: Train Acc = 93.62%, Val Acc = 90.40%\n"
          ]
        },
        {
          "name": "stderr",
          "output_type": "stream",
          "text": [
            "Epoch 5/5 - Training:  73%|███████▎  | 227/313 [12:38<04:46,  3.34s/it]"
          ]
        }
      ],
      "source": [
        "\n",
        "\n",
        "import kagglehub\n",
        "import os\n",
        "import pandas as pd\n",
        "from PIL import Image\n",
        "from tqdm import tqdm\n",
        "import matplotlib.pyplot as plt\n",
        "\n",
        "import torch\n",
        "import torch.nn as nn\n",
        "import torch.optim as optim\n",
        "from torchvision import transforms, models\n",
        "from torch.utils.data import Dataset, DataLoader\n",
        "\n",
        "\n",
        "full_path = kagglehub.dataset_download(\"xhlulu/140k-real-and-fake-faces\")\n",
        "print(\"✅ Dataset downloaded to:\", full_path)\n",
        "\n",
        "\n",
        "base_path = full_path\n",
        "image_root = os.path.join(base_path, \"real_vs_fake\", \"real-vs-fake\")\n",
        "\n",
        "train_df = pd.read_csv(os.path.join(base_path, \"train.csv\"))\n",
        "val_df = pd.read_csv(os.path.join(base_path, \"valid.csv\"))\n",
        "test_df = pd.read_csv(os.path.join(base_path, \"test.csv\"))\n",
        "\n",
        "for df in [train_df, val_df, test_df]:\n",
        "    df['full_path'] = df['path'].apply(lambda x: os.path.join(image_root, x))\n",
        "\n",
        "print(f\"✅ CSVs loaded | Train: {len(train_df)} | Val: {len(val_df)} | Test: {len(test_df)}\")\n",
        "\n",
        "\n",
        "class DeepFakeDataset(Dataset):\n",
        "    def __init__(self, dataframe, transform=None):\n",
        "        self.df = dataframe.reset_index(drop=True)\n",
        "        self.transform = transform\n",
        "\n",
        "    def __len__(self):\n",
        "        return len(self.df)\n",
        "\n",
        "    def __getitem__(self, idx):\n",
        "        img_path = self.df.loc[idx, 'full_path']\n",
        "        label = 0 if self.df.loc[idx, 'label_str'].lower() == 'real' else 1\n",
        "        image = Image.open(img_path).convert(\"RGB\")\n",
        "        if self.transform:\n",
        "            image = self.transform(image)\n",
        "        return image, label\n",
        "\n",
        "\n",
        "transform = transforms.Compose([\n",
        "    transforms.Resize((128, 128)),\n",
        "    transforms.RandomHorizontalFlip(),\n",
        "    transforms.RandomRotation(10),\n",
        "    transforms.ToTensor()\n",
        "])\n",
        "\n",
        "# Use more data for training\n",
        "train_df_small = train_df.sample(n=10000, random_state=42)\n",
        "val_df_small = val_df.sample(n=2000, random_state=42)\n",
        "\n",
        "train_data = DeepFakeDataset(train_df_small, transform=transform)\n",
        "val_data = DeepFakeDataset(val_df_small, transform=transform)\n",
        "\n",
        "train_loader = DataLoader(train_data, batch_size=32, shuffle=True, num_workers=2, pin_memory=True)\n",
        "val_loader = DataLoader(val_data, batch_size=32, num_workers=2, pin_memory=True)\n",
        "\n",
        "device = torch.device(\"cuda\" if torch.cuda.is_available() else \"cpu\")\n",
        "print(\"🚀 Using device:\", device)\n",
        "\n",
        "model = models.resnet18(weights=models.ResNet18_Weights.DEFAULT)\n",
        "model.fc = nn.Linear(model.fc.in_features, 2)\n",
        "model = model.to(device)\n",
        "\n",
        "criterion = nn.CrossEntropyLoss()\n",
        "optimizer = optim.Adam(model.parameters(), lr=0.0001)\n",
        "\n",
        "\n",
        "def train_model(model, train_loader, val_loader, criterion, optimizer, num_epochs=10):\n",
        "    train_acc, val_acc = [], []\n",
        "    train_loss, val_loss = [], []\n",
        "\n",
        "    for epoch in range(num_epochs):\n",
        "        model.train()\n",
        "        running_loss, correct, total = 0, 0, 0\n",
        "\n",
        "        for images, labels in tqdm(train_loader, desc=f\"Epoch {epoch+1}/{num_epochs} - Training\"):\n",
        "            images, labels = images.to(device), labels.to(device)\n",
        "            optimizer.zero_grad()\n",
        "            outputs = model(images)\n",
        "            loss = criterion(outputs, labels)\n",
        "            loss.backward()\n",
        "            optimizer.step()\n",
        "\n",
        "            running_loss += loss.item()\n",
        "            _, predicted = torch.max(outputs.data, 1)\n",
        "            total += labels.size(0)\n",
        "            correct += (predicted == labels).sum().item()\n",
        "\n",
        "        train_accuracy = 100 * correct / total\n",
        "        train_acc.append(train_accuracy)\n",
        "        train_loss.append(running_loss / len(train_loader))\n",
        "\n",
        "        model.eval()\n",
        "        val_running_loss, val_correct, val_total = 0, 0, 0\n",
        "        for images, labels in tqdm(val_loader, desc=f\"Epoch {epoch+1}/{num_epochs} - Validation\"):\n",
        "            images, labels = images.to(device), labels.to(device)\n",
        "            with torch.no_grad():\n",
        "                outputs = model(images)\n",
        "                loss = criterion(outputs, labels)\n",
        "                val_running_loss += loss.item()\n",
        "                _, predicted = torch.max(outputs.data, 1)\n",
        "                val_total += labels.size(0)\n",
        "                val_correct += (predicted == labels).sum().item()\n",
        "\n",
        "        val_accuracy = 100 * val_correct / val_total\n",
        "        val_acc.append(val_accuracy)\n",
        "        val_loss.append(val_running_loss / len(val_loader))\n",
        "\n",
        "        print(f\"✅ Epoch {epoch+1}: Train Acc = {train_accuracy:.2f}%, Val Acc = {val_accuracy:.2f}%\")\n",
        "\n",
        "    return train_acc, val_acc, train_loss, val_loss\n",
        "\n",
        "# Start training\n",
        "train_acc, val_acc, train_loss, val_loss = train_model(\n",
        "    model, train_loader, val_loader, criterion, optimizer, num_epochs=5\n",
        ")\n",
        "\n",
        "\n",
        "test_data = DeepFakeDataset(test_df.sample(n=2000), transform=transform)\n",
        "test_loader = DataLoader(test_data, batch_size=32, num_workers=2, pin_memory=True)\n",
        "\n",
        "def evaluate_model(model, loader):\n",
        "    model.eval()\n",
        "    correct, total = 0, 0\n",
        "    with torch.no_grad():\n",
        "        for images, labels in loader:\n",
        "            images, labels = images.to(device), labels.to(device)\n",
        "            outputs = model(images)\n",
        "            _, predicted = torch.max(outputs.data, 1)\n",
        "            total += labels.size(0)\n",
        "            correct += (predicted == labels).sum().item()\n",
        "    acc = 100 * correct / total\n",
        "    print(f\"📊 Test Accuracy: {acc:.2f}%\")\n",
        "\n",
        "evaluate_model(model, test_loader)\n",
        "\n",
        "\n",
        "plt.figure(figsize=(8, 4))\n",
        "plt.plot(train_acc, label='Train Accuracy')\n",
        "plt.plot(val_acc, label='Validation Accuracy')\n",
        "plt.xlabel(\"Epoch\")\n",
        "plt.ylabel(\"Accuracy (%)\")\n",
        "plt.title(\"Training vs Validation Accuracy\")\n",
        "plt.legend()\n",
        "plt.grid(True)\n",
        "plt.show()\n"
      ]
    },
    {
      "cell_type": "code",
      "execution_count": null,
      "metadata": {
        "colab": {
          "base_uri": "https://localhost:8080/",
          "height": 73
        },
        "id": "ASL5FehVbtHl",
        "outputId": "ab79d9c8-b33a-4226-c995-e50d57dfeac7"
      },
      "outputs": [
        {
          "data": {
            "text/html": [
              "\n",
              "     <input type=\"file\" id=\"files-6481c1fb-321b-46d0-8301-c334caaf97e1\" name=\"files[]\" multiple disabled\n",
              "        style=\"border:none\" />\n",
              "     <output id=\"result-6481c1fb-321b-46d0-8301-c334caaf97e1\">\n",
              "      Upload widget is only available when the cell has been executed in the\n",
              "      current browser session. Please rerun this cell to enable.\n",
              "      </output>\n",
              "      <script>// Copyright 2017 Google LLC\n",
              "//\n",
              "// Licensed under the Apache License, Version 2.0 (the \"License\");\n",
              "// you may not use this file except in compliance with the License.\n",
              "// You may obtain a copy of the License at\n",
              "//\n",
              "//      http://www.apache.org/licenses/LICENSE-2.0\n",
              "//\n",
              "// Unless required by applicable law or agreed to in writing, software\n",
              "// distributed under the License is distributed on an \"AS IS\" BASIS,\n",
              "// WITHOUT WARRANTIES OR CONDITIONS OF ANY KIND, either express or implied.\n",
              "// See the License for the specific language governing permissions and\n",
              "// limitations under the License.\n",
              "\n",
              "/**\n",
              " * @fileoverview Helpers for google.colab Python module.\n",
              " */\n",
              "(function(scope) {\n",
              "function span(text, styleAttributes = {}) {\n",
              "  const element = document.createElement('span');\n",
              "  element.textContent = text;\n",
              "  for (const key of Object.keys(styleAttributes)) {\n",
              "    element.style[key] = styleAttributes[key];\n",
              "  }\n",
              "  return element;\n",
              "}\n",
              "\n",
              "// Max number of bytes which will be uploaded at a time.\n",
              "const MAX_PAYLOAD_SIZE = 100 * 1024;\n",
              "\n",
              "function _uploadFiles(inputId, outputId) {\n",
              "  const steps = uploadFilesStep(inputId, outputId);\n",
              "  const outputElement = document.getElementById(outputId);\n",
              "  // Cache steps on the outputElement to make it available for the next call\n",
              "  // to uploadFilesContinue from Python.\n",
              "  outputElement.steps = steps;\n",
              "\n",
              "  return _uploadFilesContinue(outputId);\n",
              "}\n",
              "\n",
              "// This is roughly an async generator (not supported in the browser yet),\n",
              "// where there are multiple asynchronous steps and the Python side is going\n",
              "// to poll for completion of each step.\n",
              "// This uses a Promise to block the python side on completion of each step,\n",
              "// then passes the result of the previous step as the input to the next step.\n",
              "function _uploadFilesContinue(outputId) {\n",
              "  const outputElement = document.getElementById(outputId);\n",
              "  const steps = outputElement.steps;\n",
              "\n",
              "  const next = steps.next(outputElement.lastPromiseValue);\n",
              "  return Promise.resolve(next.value.promise).then((value) => {\n",
              "    // Cache the last promise value to make it available to the next\n",
              "    // step of the generator.\n",
              "    outputElement.lastPromiseValue = value;\n",
              "    return next.value.response;\n",
              "  });\n",
              "}\n",
              "\n",
              "/**\n",
              " * Generator function which is called between each async step of the upload\n",
              " * process.\n",
              " * @param {string} inputId Element ID of the input file picker element.\n",
              " * @param {string} outputId Element ID of the output display.\n",
              " * @return {!Iterable<!Object>} Iterable of next steps.\n",
              " */\n",
              "function* uploadFilesStep(inputId, outputId) {\n",
              "  const inputElement = document.getElementById(inputId);\n",
              "  inputElement.disabled = false;\n",
              "\n",
              "  const outputElement = document.getElementById(outputId);\n",
              "  outputElement.innerHTML = '';\n",
              "\n",
              "  const pickedPromise = new Promise((resolve) => {\n",
              "    inputElement.addEventListener('change', (e) => {\n",
              "      resolve(e.target.files);\n",
              "    });\n",
              "  });\n",
              "\n",
              "  const cancel = document.createElement('button');\n",
              "  inputElement.parentElement.appendChild(cancel);\n",
              "  cancel.textContent = 'Cancel upload';\n",
              "  const cancelPromise = new Promise((resolve) => {\n",
              "    cancel.onclick = () => {\n",
              "      resolve(null);\n",
              "    };\n",
              "  });\n",
              "\n",
              "  // Wait for the user to pick the files.\n",
              "  const files = yield {\n",
              "    promise: Promise.race([pickedPromise, cancelPromise]),\n",
              "    response: {\n",
              "      action: 'starting',\n",
              "    }\n",
              "  };\n",
              "\n",
              "  cancel.remove();\n",
              "\n",
              "  // Disable the input element since further picks are not allowed.\n",
              "  inputElement.disabled = true;\n",
              "\n",
              "  if (!files) {\n",
              "    return {\n",
              "      response: {\n",
              "        action: 'complete',\n",
              "      }\n",
              "    };\n",
              "  }\n",
              "\n",
              "  for (const file of files) {\n",
              "    const li = document.createElement('li');\n",
              "    li.append(span(file.name, {fontWeight: 'bold'}));\n",
              "    li.append(span(\n",
              "        `(${file.type || 'n/a'}) - ${file.size} bytes, ` +\n",
              "        `last modified: ${\n",
              "            file.lastModifiedDate ? file.lastModifiedDate.toLocaleDateString() :\n",
              "                                    'n/a'} - `));\n",
              "    const percent = span('0% done');\n",
              "    li.appendChild(percent);\n",
              "\n",
              "    outputElement.appendChild(li);\n",
              "\n",
              "    const fileDataPromise = new Promise((resolve) => {\n",
              "      const reader = new FileReader();\n",
              "      reader.onload = (e) => {\n",
              "        resolve(e.target.result);\n",
              "      };\n",
              "      reader.readAsArrayBuffer(file);\n",
              "    });\n",
              "    // Wait for the data to be ready.\n",
              "    let fileData = yield {\n",
              "      promise: fileDataPromise,\n",
              "      response: {\n",
              "        action: 'continue',\n",
              "      }\n",
              "    };\n",
              "\n",
              "    // Use a chunked sending to avoid message size limits. See b/62115660.\n",
              "    let position = 0;\n",
              "    do {\n",
              "      const length = Math.min(fileData.byteLength - position, MAX_PAYLOAD_SIZE);\n",
              "      const chunk = new Uint8Array(fileData, position, length);\n",
              "      position += length;\n",
              "\n",
              "      const base64 = btoa(String.fromCharCode.apply(null, chunk));\n",
              "      yield {\n",
              "        response: {\n",
              "          action: 'append',\n",
              "          file: file.name,\n",
              "          data: base64,\n",
              "        },\n",
              "      };\n",
              "\n",
              "      let percentDone = fileData.byteLength === 0 ?\n",
              "          100 :\n",
              "          Math.round((position / fileData.byteLength) * 100);\n",
              "      percent.textContent = `${percentDone}% done`;\n",
              "\n",
              "    } while (position < fileData.byteLength);\n",
              "  }\n",
              "\n",
              "  // All done.\n",
              "  yield {\n",
              "    response: {\n",
              "      action: 'complete',\n",
              "    }\n",
              "  };\n",
              "}\n",
              "\n",
              "scope.google = scope.google || {};\n",
              "scope.google.colab = scope.google.colab || {};\n",
              "scope.google.colab._files = {\n",
              "  _uploadFiles,\n",
              "  _uploadFilesContinue,\n",
              "};\n",
              "})(self);\n",
              "</script> "
            ],
            "text/plain": [
              "<IPython.core.display.HTML object>"
            ]
          },
          "metadata": {},
          "output_type": "display_data"
        },
        {
          "name": "stdout",
          "output_type": "stream",
          "text": [
            "Saving download.jpeg to download.jpeg\n"
          ]
        }
      ],
      "source": [
        "from google.colab import files\n",
        "uploaded = files.upload()\n"
      ]
    },
    {
      "cell_type": "code",
      "execution_count": null,
      "metadata": {
        "id": "lCB9FOkud49w"
      },
      "outputs": [],
      "source": [
        "import os\n",
        "from PIL import Image\n",
        "import matplotlib.pyplot as plt\n",
        "\n",
        " Use same transform as training\n",
        "transform_eval = transforms.Compose([\n",
        "    transforms.Resize((128, 128)),\n",
        "    transforms.ToTensor()\n",
        "])\n",
        "\n",
        "label_map = {0: 'Real', 1: 'Fake'}\n",
        "\n",
        "def predict_and_display(image_path):\n",
        "    image = Image.open(image_path).convert(\"RGB\")\n",
        "    img_tensor = transform_eval(image).unsqueeze(0).to(device)\n",
        "\n",
        "    model.eval()\n",
        "    with torch.no_grad():\n",
        "        output = model(img_tensor)\n",
        "        probs = torch.softmax(output, dim=1)\n",
        "        conf_score, pred_class = torch.max(probs, dim=1)\n",
        "\n",
        "    predicted_label = label_map[pred_class.item()]\n",
        "    confidence = conf_score.item() * 100\n",
        "\n",
        "     Show image and prediction\n",
        "    plt.imshow(image)\n",
        "    plt.axis('off')\n",
        "    plt.title(f\"{predicted_label} ({confidence:.2f}%)\", fontsize=14)\n",
        "    plt.show()\n",
        "\n",
        "    print(f\"📸 {os.path.basename(image_path)} → {predicted_label} ({confidence:.2f}%)\")\n",
        "\n",
        " Predict for each uploaded image\n",
        "for fname in uploaded.keys():\n",
        "    predict_and_display(fname)\n"
      ]
    }
  ],
  "metadata": {
    "accelerator": "GPU",
    "colab": {
      "gpuType": "T4",
      "provenance": []
    },
    "kernelspec": {
      "display_name": "Python 3",
      "name": "python3"
    },
    "language_info": {
      "name": "python"
    }
  },
  "nbformat": 4,
  "nbformat_minor": 0
}